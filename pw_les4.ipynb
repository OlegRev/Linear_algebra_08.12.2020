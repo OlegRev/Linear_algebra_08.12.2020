{
 "cells": [
  {
   "cell_type": "code",
   "execution_count": 1,
   "metadata": {},
   "outputs": [],
   "source": [
    "import numpy as np"
   ]
  },
  {
   "cell_type": "markdown",
   "metadata": {},
   "source": [
    "__1.__ Решить систему уравнений методом Гаусса:\n",
    "\n",
    "$$\\begin{cases}\n",
    "x_{1}+x_{2}-x_{3}-2x_{4}=0, \\\\\n",
    "2x_{1}+x_{2}-x_{3}+x_{4}=-2, \\\\\n",
    "x_{1}+x_{2}-3x_{3}+x_{4}=4.\n",
    "\\end{cases}$$"
   ]
  },
  {
   "cell_type": "markdown",
   "metadata": {},
   "source": [
    "$\\begin{pmatrix}\n",
    "\\left.\\begin{matrix}\n",
    "1 & 1 & -1 & -2\\\\ \n",
    "2 & 1 & -1 & 1\\\\ \n",
    "1 & 1 & -3 & 1\n",
    "\\end{matrix}\\right|\n",
    "\\begin{matrix}\n",
    "0\\\\ \n",
    "-2\\\\\n",
    "4\n",
    "\\end{matrix}\n",
    "\\end{pmatrix}\\to\n",
    "\\begin{pmatrix}\n",
    "\\left.\\begin{matrix}\n",
    "1 & 1 & -1 & -2\\\\ \n",
    "0 & -1 & 1 & 5\\\\ \n",
    "0 & 0 & -2 & 3\n",
    "\\end{matrix}\\right|\n",
    "\\begin{matrix}\n",
    "0\\\\ \n",
    "-2\\\\\n",
    "4\n",
    "\\end{matrix}\n",
    "\\end{pmatrix}\\to\n",
    "\\begin{pmatrix}\n",
    "\\left.\\begin{matrix}\n",
    "1 & 1 & -1 & -2\\\\ \n",
    "0 & -1 & 1 & 5\\\\ \n",
    "0 & 0 & 1 & -\\frac{3}{2}\n",
    "\\end{matrix}\\right|\n",
    "\\begin{matrix}\n",
    "0\\\\ \n",
    "-2\\\\\n",
    "-2\n",
    "\\end{matrix}\n",
    "\\end{pmatrix}\\\\\n",
    "\\begin{cases}\n",
    "x_{1}+x_{2}-x_{3}-2x_{4}=0\\\\\n",
    "0-x_{2}+x_{3}+5x_{4}=-2\\\\\n",
    "0+0+x_{3}-\\frac{3}{2}x_{4}=-2\n",
    "\\end{cases}\\to\n",
    "\\begin{cases}\n",
    "x_{1}=x_{3}+2x_{4}-x_{2}\\\\\n",
    "x_{2}=2+x_{3}+5x_{4}\\\\\n",
    "x_{3}=-2+\\frac{3}{2}x_{4}\n",
    "\\end{cases}\\to\n",
    "\\begin{cases}\n",
    "x_{1}=-2+\\frac{3}{2}x_{4}+2x_{4}-\\frac{13}{2}x_{4}=-2-3x_{4}\\\\\n",
    "x_{2}=2-2+\\frac{3}{2}x_{4}+5x_{4}=\\frac{13}{2}x_{4}\\\\\n",
    "x_{3}=-2+\\frac{3}{2}x_{4}\n",
    "\\end{cases}\\\\\n",
    "\\begin{cases}\n",
    "x_{1}=-2-3x_{4}\\\\\n",
    "x_{2}=\\frac{13}{2}x_{4}\\\\\n",
    "x_{3}=-2+\\frac{3}{2}x_{4}\n",
    "\\end{cases}\\\\\n",
    "x_{4}=\\lambda_1\\to\n",
    "\\begin{cases}\n",
    "x_{1}=-2-3\\lambda_1\\\\\n",
    "x_{2}=\\frac{13}{2}\\lambda_1\\\\\n",
    "x_{3}=-2+\\frac{3}{2}\\lambda_1\n",
    "\\end{cases}\n",
    "$"
   ]
  },
  {
   "cell_type": "code",
   "execution_count": null,
   "metadata": {},
   "outputs": [],
   "source": []
  },
  {
   "cell_type": "markdown",
   "metadata": {},
   "source": [
    "__2.__ Проверить на совместность и выяснить, сколько решений будет иметь система линейных уравнений:\n",
    "\n",
    "   а) $\\begin{cases}\n",
    "3x_{1}-x_{2}+x_{3}=4, \\\\\n",
    "2x_{1}-5x_{2}-3x_{3}=-17, \\\\\n",
    "x_{1}+x_{2}-x_{3}=0;\n",
    "\\end{cases}$\n",
    "    \n",
    "   б) $\\begin{cases}\n",
    "2x_{1}-4x_{2}+6x_{3}=1, \\\\\n",
    "x_{1}-2x_{2}+3x_{3}=-2, \\\\\n",
    "3x_{1}-6x_{2}+9x_{3}=5;\n",
    "\\end{cases}$\n",
    "    \n",
    "   в) $\\begin{cases}\n",
    "x_{1}+2x_{2}+5x_{3}=4, \\\\\n",
    "3x_{1}+x_{2}-8x_{3}=-2. \n",
    "\\end{cases}$"
   ]
  },
  {
   "cell_type": "code",
   "execution_count": null,
   "metadata": {},
   "outputs": [],
   "source": []
  },
  {
   "cell_type": "code",
   "execution_count": 2,
   "metadata": {},
   "outputs": [
    {
     "name": "stdout",
     "output_type": "stream",
     "text": [
      "Ранг матрицы A-3\tРанг расшириной матрицы A - 3\n",
      "Ранг матрицы B-1\tРанг расшириной матрицы B - 2\n",
      "\t: матрица B несовметна по теореме Кронекера — Капелли\n",
      "Ранг матрицы V-2\tРанг расшириной матрицы V - 2\n"
     ]
    }
   ],
   "source": [
    "A = np.array([[3, -1, 1],\n",
    "              [2, -5, -3],\n",
    "              [1, 1, -1]])\n",
    "A_expanded = np.array([[3, -1, 1, 4],\n",
    "                       [2, -5, -3, -17],\n",
    "                       [1, 1, -1, 0]]) \n",
    "B = np.array([[2, -4, 6],\n",
    "              [1, -2, 3],\n",
    "              [3, -6, 9]])\n",
    "B_expanded = np.array([[2, -4, 6, 1],\n",
    "                       [1, -2, 3, -2],\n",
    "                       [3, -6, 9, 5]])\n",
    "V = np.array([[1, 2, 5],\n",
    "              [3, 1, -8]])\n",
    "V_expanded = np.array([[1, 2, 5, 4],\n",
    "                       [3, 1, -8, -2]])\n",
    "print(f'Ранг матрицы A-{np.linalg.matrix_rank(A)}\\tРанг расшириной матрицы A - {np.linalg.matrix_rank(A_expanded)}\\n'\n",
    "      f'Ранг матрицы B-{np.linalg.matrix_rank(B)}\\tРанг расшириной матрицы B - {np.linalg.matrix_rank(B_expanded)}\\n'\n",
    "      f'\\t: матрица B несовметна по теореме Кронекера — Капелли\\n'\n",
    "      f'Ранг матрицы V-{np.linalg.matrix_rank(V)}\\tРанг расшириной матрицы V - {np.linalg.matrix_rank(V_expanded)}')"
   ]
  },
  {
   "cell_type": "markdown",
   "metadata": {},
   "source": [
    "__3.__ Проверить на совместность и выяснить, сколько решений будет иметь система линейных уравнений, заданная расширенной матрицей\n",
    "\n",
    "$$\\tilde{A}=\\begin{pmatrix}\n",
    "\\left.\\begin{matrix}\n",
    "1 & 3 & -2 & 4\\\\ \n",
    "0 & 5 & 0 & 1\\\\ \n",
    "0 & 0 & 3 & 0\\\\ \n",
    "0 & 0 & 0 & 2\n",
    "\\end{matrix}\\right|\n",
    "\\begin{matrix}\n",
    "3\\\\ \n",
    "2\\\\\n",
    "4\\\\\n",
    "1\n",
    "\\end{matrix}\n",
    "\\end{pmatrix}.$$"
   ]
  },
  {
   "cell_type": "code",
   "execution_count": null,
   "metadata": {},
   "outputs": [],
   "source": []
  },
  {
   "cell_type": "code",
   "execution_count": null,
   "metadata": {},
   "outputs": [],
   "source": []
  },
  {
   "cell_type": "markdown",
   "metadata": {},
   "source": [
    "__4.__ Дана система линейных уравнений, заданная расширенной матрицей\n",
    "\n",
    "$$\\tilde{A}=\\begin{pmatrix}\n",
    "\\left.\\begin{matrix}\n",
    "1 & 2 & 3\\\\ \n",
    "4 & 5 & 6\\\\ \n",
    "7 & 8 & 9\n",
    "\\end{matrix}\\right|\n",
    "\\begin{matrix}\n",
    "a\\\\ \n",
    "b\\\\\n",
    "c\n",
    "\\end{matrix}\n",
    "\\end{pmatrix}.$$\n",
    "\n",
    "Найти соотношение между параметрами $a$, $b$ и $c$, при которых система является несовместной."
   ]
  },
  {
   "cell_type": "code",
   "execution_count": null,
   "metadata": {},
   "outputs": [],
   "source": []
  },
  {
   "cell_type": "markdown",
   "metadata": {},
   "source": [
    "__доп.задание.__ : При каком значении параметра \"_a_\" слудующая система линенйныхуравнений не имеет решений\n",
    "\n",
    "$\\begin{cases}\n",
    "x+y+7z=-7, \\\\\n",
    "2x+3y+17z=-16, \\\\\n",
    "x+2y+(a^2+1)z=3a;\n",
    "\\end{cases}$"
   ]
  },
  {
   "cell_type": "code",
   "execution_count": null,
   "metadata": {},
   "outputs": [],
   "source": []
  }
 ],
 "metadata": {
  "kernelspec": {
   "display_name": "Python 3",
   "language": "python",
   "name": "python3"
  },
  "language_info": {
   "codemirror_mode": {
    "name": "ipython",
    "version": 3
   },
   "file_extension": ".py",
   "mimetype": "text/x-python",
   "name": "python",
   "nbconvert_exporter": "python",
   "pygments_lexer": "ipython3",
   "version": "3.8.5"
  }
 },
 "nbformat": 4,
 "nbformat_minor": 4
}
