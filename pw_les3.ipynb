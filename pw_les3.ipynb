{
 "cells": [
  {
   "cell_type": "code",
   "execution_count": 1,
   "metadata": {},
   "outputs": [],
   "source": [
    "import numpy as np"
   ]
  },
  {
   "cell_type": "markdown",
   "metadata": {},
   "source": [
    "__1.__ Найти собственные векторы и собственные значения для линейного оператора, заданного матрицей\n",
    "\n",
    "$A=\\begin{pmatrix}\n",
    "-1 & -6\\\\ \n",
    "2 & 6\n",
    "\\end{pmatrix}\\quad\n",
    "\\overrightarrow{u}=\\begin{pmatrix}\n",
    "x\\\\ \n",
    "y\n",
    "\\end{pmatrix}\\quad A\\cdot\\overrightarrow{u}=\\lambda\\cdot\\overrightarrow{u}\\\\\n",
    "\\begin{pmatrix}\n",
    "-1 & -6\\\\ \n",
    "2 & 6\n",
    "\\end{pmatrix}\\cdot\\begin{pmatrix}\n",
    "x\\\\ \n",
    "y\n",
    "\\end{pmatrix}=\\lambda\\cdot\\begin{pmatrix}\n",
    "x\\\\ \n",
    "y\n",
    "\\end{pmatrix}\\to\\begin{pmatrix}\n",
    "-x & -6\\cdot y\\\\ \n",
    "2\\cdot x & 6\\cdot y\n",
    "\\end{pmatrix}=\\begin{pmatrix}\n",
    "\\lambda\\cdot x\\\\ \n",
    "\\lambda\\cdot y\n",
    "\\end{pmatrix}\\\\\n",
    "\\begin{cases}\n",
    "-x-6\\cdot y = \\lambda\\cdot x \\\\\n",
    "2\\cdot x + 6\\cdot y = \\lambda\\cdot y\n",
    "\\end{cases}\n",
    "\\begin{cases}\n",
    "-x-6\\cdot y - \\lambda\\cdot x = 0\\\\\n",
    "2\\cdot x + 6\\cdot y - \\lambda\\cdot y = 0\n",
    "\\end{cases}\n",
    "\\begin{cases}\n",
    "(-1-\\lambda)\\cdot x-6\\cdot y = 0\\\\\n",
    "2\\cdot x + y\\cdot(6 - \\lambda) = 0\n",
    "\\end{cases}\\quad\n",
    "\\overrightarrow{u}=\\begin{pmatrix}\n",
    "x\\\\ \n",
    "y\n",
    "\\end{pmatrix}\\neq\\begin{pmatrix}\n",
    "0\\\\ \n",
    "0\n",
    "\\end{pmatrix}\\\\\n",
    "\\begin{vmatrix}\n",
    "(-1-\\lambda) & -6\\\\\n",
    "2 & (6 - \\lambda)\n",
    "\\end{vmatrix}=0\\quad\n",
    "(-1-\\lambda)\\cdot(6 - \\lambda)-2\\cdot(-6)=0\\quad\n",
    "\\lambda^2-5\\cdot\\lambda-6+12=0\\\\\n",
    "\\lambda^2-5\\cdot\\lambda+6=0\n",
    "D=b^2-4\\cdot a\\cdot c=25 - \\cdot 1\\cdot 6=25-24=1\\to\n",
    "\\sqrt{D}=1\\\\\n",
    "\\lambda_{1,2}=\\frac{-b\\pm \\sqrt{D}}{2\\cdot a}\\quad\n",
    "\\lambda_1=\\frac{5-1}{2}=2\\quad\n",
    "\\lambda_2=\\frac{5+1}{2}=3\\\\\n",
    "\\begin{cases}\n",
    "(-1-\\lambda)\\cdot x-6\\cdot y = 0\\\\\n",
    "2\\cdot x + y\\cdot(6 - \\lambda) = 0\n",
    "\\end{cases}\\quad \\lambda=\\lambda_1=2\\quad\\begin{cases}-3\\cdot x-6\\cdot y = 0\\\\\n",
    "2\\cdot x + y\\cdot 4 = 0\n",
    "\\end{cases}\\quad\n",
    "\\begin{vmatrix}\n",
    "-3 & -6\\\\\n",
    "2 & 4\n",
    "\\end{vmatrix}\\\\\n",
    "x= -2\\cdot y\\to y=-1\\quad x=-2\\cdot(-1)=2\\quad\\begin{cases}-3\\cdot 2-6\\cdot (-1) = 0\\\\\n",
    "2\\cdot 2 - 1\\cdot 4 = 0\n",
    "\\end{cases}=\\begin{cases}-6+6 = 0\\\\\n",
    "4 - 4 = 0\n",
    "\\end{cases}\\\\\n",
    "\\overrightarrow{u}=\\begin{pmatrix}\n",
    "2\\\\ \n",
    "-1\n",
    "\\end{pmatrix}\\\\\n",
    "\\begin{vmatrix}\n",
    "(-1-\\lambda) & -6\\\\\n",
    "2 & (6 - \\lambda)\n",
    "\\end{vmatrix}\\quad \\lambda=\\lambda_2=3\\quad\n",
    "\\to \\quad\n",
    "\\begin{vmatrix}\n",
    "(-1-3) & -6\\\\\n",
    "2 & (6 - 3)\n",
    "\\end{vmatrix}=\n",
    "\\begin{vmatrix}\n",
    "-4 & -6\\\\\n",
    "2 & 3\n",
    "\\end{vmatrix}\\\\\n",
    "x= -\\frac{3}{2}\\cdot y\\to y=-2\\quad x=-\\frac{3}{2}\\cdot(-2)=3\\quad\n",
    "\\begin{cases}-4\\cdot 3-6\\cdot (-2) = 0\\\\\n",
    "2\\cdot 3 + 3\\cdot (-2) = 0\n",
    "\\end{cases}=\n",
    "\\begin{cases}-12+12 = 0\\\\\n",
    "6 - 6 = 0\n",
    "\\end{cases}\\\\\n",
    "\\overrightarrow{u}=\\begin{pmatrix}\n",
    "3\\\\ \n",
    "-2\n",
    "\\end{pmatrix}\\\\\\\\\n",
    "\\text{Собственные значения: }\\lambda_1=2,\\quad\\lambda_2=3\\\\\n",
    "\\text{Собственные вектора: }\\overrightarrow{u_1}=\\begin{pmatrix}\n",
    "2\\\\ \n",
    "-1\n",
    "\\end{pmatrix},\\quad\\overrightarrow{u_2}=\\begin{pmatrix}\n",
    "3\\\\ \n",
    "-2\n",
    "\\end{pmatrix}$\n",
    "\n",
    " "
   ]
  },
  {
   "cell_type": "code",
   "execution_count": 2,
   "metadata": {},
   "outputs": [
    {
     "name": "stdout",
     "output_type": "stream",
     "text": [
      "Матрица A:\n",
      "[[-1 -6]\n",
      " [ 2  6]]\n",
      "Собственные значения:\n",
      "[2. 3.]\n",
      "Собственные векторы:\n",
      "[[-0.89442719  0.83205029]\n",
      " [ 0.4472136  -0.5547002 ]]\n"
     ]
    }
   ],
   "source": [
    "a = np.array([[-1, -6], [2, 6]])\n",
    "w, v = np.linalg.eig(a)\n",
    "\n",
    "print(f'Матрица A:\\n{a}')\n",
    "print(f'Собственные значения:\\n{w}')\n",
    "print(f'Собственные векторы:\\n{v}')"
   ]
  },
  {
   "cell_type": "markdown",
   "metadata": {},
   "source": [
    "__2.__ Дан оператор поворота на 180 градусов, задаваемый матрицей \n",
    "\n",
    "$$A=\\begin{pmatrix}\n",
    "-1 & 0\\\\ \n",
    "0 & -1\n",
    "\\end{pmatrix}.$$\n",
    "\n",
    "Показать, что __любой__ вектор является для него собственным.\n",
    "\n"
   ]
  },
  {
   "cell_type": "markdown",
   "metadata": {},
   "source": [
    "$\\begin{pmatrix}\n",
    "-1 & 0\\\\ \n",
    "0 & -1\n",
    "\\end{pmatrix}\\cdot\\begin{pmatrix}\n",
    "x\\\\ \n",
    "y\n",
    "\\end{pmatrix}=\\lambda\\cdot\\begin{pmatrix}\n",
    "x\\\\ \n",
    "y\n",
    "\\end{pmatrix}\\to\\begin{pmatrix}\n",
    "-1\\cdot x & 0\\cdot y\\\\ \n",
    "0\\cdot x & -1\\cdot y\n",
    "\\end{pmatrix}=\\begin{pmatrix}\n",
    "\\lambda\\cdot x\\\\ \n",
    "\\lambda\\cdot y\n",
    "\\end{pmatrix}\\\\\n",
    "\\begin{cases}\n",
    "-x-0\\cdot y = \\lambda\\cdot x \\\\\n",
    "0\\cdot x -1\\cdot y = \\lambda\\cdot y\n",
    "\\end{cases}\n",
    "\\begin{cases}\n",
    "-x - \\lambda\\cdot x = 0\\\\\n",
    "-y - \\lambda\\cdot y = 0\n",
    "\\end{cases}\n",
    "\\begin{cases}\n",
    "(-1-\\lambda)\\cdot x = 0\\\\\n",
    "(-1-\\lambda)\\cdot y = 0\n",
    "\\end{cases}\\quad\n",
    "\\overrightarrow{u}=\\begin{pmatrix}\n",
    "x\\\\ \n",
    "y\n",
    "\\end{pmatrix}\\neq\\begin{pmatrix}\n",
    "0\\\\ \n",
    "0\n",
    "\\end{pmatrix}\\\\\n",
    "\\begin{vmatrix}\n",
    "(-1-\\lambda) & 0\\\\\n",
    "0 & (-1 - \\lambda)\n",
    "\\end{vmatrix}=0\\quad\n",
    "(-1-\\lambda)\\cdot(-1 - \\lambda)-0=0\\quad\n",
    "\\lambda^2+2\\cdot\\lambda+1=0\\\\\n",
    "D=b^2-4\\cdot a\\cdot c=4-4=0$"
   ]
  },
  {
   "cell_type": "code",
   "execution_count": 3,
   "metadata": {},
   "outputs": [
    {
     "name": "stdout",
     "output_type": "stream",
     "text": [
      "Матрица A:\n",
      "[[-1  0]\n",
      " [ 0 -1]]\n",
      "Собственные значения:\n",
      "[2. 3.]\n",
      "Собственные векторы:\n",
      "[[-0.89442719  0.83205029]\n",
      " [ 0.4472136  -0.5547002 ]]\n"
     ]
    }
   ],
   "source": [
    "a_2 = np.array([[-1, 0], [0, -1]])\n",
    "w_2, v_2 = np.linalg.eig(a)\n",
    "\n",
    "print(f'Матрица A:\\n{a_2}')\n",
    "print(f'Собственные значения:\\n{w_2}')\n",
    "print(f'Собственные векторы:\\n{v_2}')"
   ]
  },
  {
   "cell_type": "markdown",
   "metadata": {},
   "source": [
    "__3.__ Пусть линейный оператор задан матрицей\n",
    "\n",
    "$$A=\\begin{pmatrix}\n",
    "1 & 1\\\\ \n",
    "-1 & 3\n",
    "\\end{pmatrix}.$$\n",
    "\n",
    "Установить, является ли вектор $x=(1,1)$ собственным вектором этого линейного оператора.\n",
    "\n"
   ]
  },
  {
   "cell_type": "markdown",
   "metadata": {},
   "source": [
    "$\\begin{pmatrix}\n",
    "1 & 1\\\\ \n",
    "-1 & 3\n",
    "\\end{pmatrix}\n",
    "\\begin{pmatrix}\n",
    "1\\\\ \n",
    "1\n",
    "\\end{pmatrix}=\n",
    "\\lambda\n",
    "\\begin{pmatrix}\n",
    "1\\\\ \n",
    "1\n",
    "\\end{pmatrix}\n",
    "$\n",
    "\n",
    "Из этого будет следовать, что \n",
    "\n",
    "$\\begin{cases}\n",
    "1+1=1\\cdot\\lambda \\\\ \n",
    "-1+3 = 1\\cdot \\lambda\n",
    "\\end{cases}\n",
    "\\Rightarrow\n",
    "\\begin{cases}\n",
    "\\lambda=2\\\\ \n",
    "\\lambda=2\n",
    "\\end{cases}$\n",
    "\n",
    "Таким образом, вектор  $x=(1,1)$ является собственным вектором линейного оператора, заданного матрицей $A$, и его собственное значение составляет $\\lambda=2.$"
   ]
  },
  {
   "cell_type": "code",
   "execution_count": 4,
   "metadata": {},
   "outputs": [
    {
     "name": "stdout",
     "output_type": "stream",
     "text": [
      "Матрица A:\n",
      "[[ 1  1]\n",
      " [-1  3]]\n",
      "Собственные значения:\n",
      "[2.00000002 1.99999998]\n",
      "Собственные векторы:\n",
      "[[ 0.70710677 -0.70710679]\n",
      " [ 0.70710679 -0.70710677]]\n"
     ]
    }
   ],
   "source": [
    "a = np.array([[1, 1], [-1, 3]])\n",
    "w, v = np.linalg.eig(a)\n",
    "\n",
    "print(f'Матрица A:\\n{a}')\n",
    "print(f'Собственные значения:\\n{w}')\n",
    "print(f'Собственные векторы:\\n{v}')"
   ]
  },
  {
   "cell_type": "markdown",
   "metadata": {},
   "source": [
    "__4.__ Пусть линейный оператор задан матрицей\n",
    "\n",
    "$$A=\\begin{pmatrix}\n",
    "0 & 3 & 0\\\\ \n",
    "3 & 0 & 0\\\\\n",
    "0 & 0 & 3\n",
    "\\end{pmatrix}.$$\n",
    "\n",
    "Установить, является ли вектор $x=(3, -3, -4)$ собственным вектором этого линейного оператора."
   ]
  },
  {
   "cell_type": "markdown",
   "metadata": {},
   "source": [
    "$\\begin{pmatrix}\n",
    "0 & 3 & 0\\\\ \n",
    "3 & 0 & 0\\\\\n",
    "0 & 0 & 3\n",
    "\\end{pmatrix}\n",
    "\\begin{pmatrix}\n",
    "3\\\\\n",
    "-3\\\\\n",
    "-4\n",
    "\\end{pmatrix}=\n",
    "\\lambda\n",
    "\\begin{pmatrix}\n",
    "3\\\\\n",
    "-3\\\\\n",
    "4\n",
    "\\end{pmatrix}\n",
    "$\n",
    "\n",
    "$\\Rightarrow\n",
    "\\begin{cases}\n",
    "\\lambda=-3\\\\ \n",
    "\\lambda=-3\\\\\n",
    "2\\lambda=3\n",
    "\\end{cases}$\n",
    "\n",
    "Таким образом, вектор $x=(3, -3, -4)$ не является собственным вектором линейного оператора, заданного матрицей $A$"
   ]
  },
  {
   "cell_type": "code",
   "execution_count": 5,
   "metadata": {},
   "outputs": [
    {
     "name": "stdout",
     "output_type": "stream",
     "text": [
      "Матрица A:\n",
      "[[0 3 0]\n",
      " [3 0 0]\n",
      " [0 0 3]]\n",
      "Собственные значения:\n",
      "[ 3. -3.  3.]\n",
      "Собственные векторы:\n",
      "[[ 0.70710678 -0.70710678  0.        ]\n",
      " [ 0.70710678  0.70710678  0.        ]\n",
      " [ 0.          0.          1.        ]]\n"
     ]
    }
   ],
   "source": [
    "a = np.array([[0, 3, 0], [3, 0, 0], [0, 0, 3]])\n",
    "w, v = np.linalg.eig(a)\n",
    "\n",
    "print(f'Матрица A:\\n{a}')\n",
    "print(f'Собственные значения:\\n{w}')\n",
    "print(f'Собственные векторы:\\n{v}')"
   ]
  }
 ],
 "metadata": {
  "kernelspec": {
   "display_name": "Python 3",
   "language": "python",
   "name": "python3"
  },
  "language_info": {
   "codemirror_mode": {
    "name": "ipython",
    "version": 3
   },
   "file_extension": ".py",
   "mimetype": "text/x-python",
   "name": "python",
   "nbconvert_exporter": "python",
   "pygments_lexer": "ipython3",
   "version": "3.7.6"
  }
 },
 "nbformat": 4,
 "nbformat_minor": 4
}
